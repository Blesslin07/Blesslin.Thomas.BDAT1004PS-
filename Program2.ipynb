{
 "cells": [
  {
   "cell_type": "markdown",
   "id": "cd250262",
   "metadata": {},
   "source": [
    "Question 6 Python\n",
    "16. You can turn a word into pig-Latin using the following two rules (simplified):\n",
    "• If the word starts with a consonant, move that letter to the end and append \n",
    "'ay'. For example, 'happy' becomes 'appyhay' and 'pencil' becomes 'encilpay'.\n",
    "• If the word starts with a vowel, simply append 'way' to the end of the word. \n",
    "For example, 'enter' becomes 'enterway' and 'other' becomes 'otherway' . For \n",
    "our purposes, there are 5 vowels: a, e, i, o, u (so we count y as a consonant).\n",
    "Write a function pig() that takes a word (i.e., a string) as input and returns its pig\u0002Latin form. Your function should still work if the input word contains upper case \n",
    "characters. Your output should always be lower case however. \n",
    ">>> pig('happy')\n",
    "'appyhay'\n",
    ">>> pig('Enter')\n",
    "'enterway' "
   ]
  },
  {
   "cell_type": "code",
   "execution_count": 5,
   "id": "a5c534ca",
   "metadata": {},
   "outputs": [
    {
     "name": "stdout",
     "output_type": "stream",
     "text": [
      "appyhay\n",
      "enterway\n"
     ]
    }
   ],
   "source": [
    "def pig(word): # function pig that takes string as input and return its pig latin form\n",
    " word =word.lower()\n",
    " if word[0] in {\"a\",\"e\",\"i\",\"o\",\"u\"}:\n",
    "    return (word+\"way\") # appending 'way' to the end of the word\n",
    " else :\n",
    "    return word[1:]+word[0]+\"ay\" #moving first letter to the end and appending word 'ay'\n",
    "print(pig(\"happy\"))  \n",
    "print(pig(\"Enter\")) "
   ]
  },
  {
   "cell_type": "markdown",
   "id": "9da320f3",
   "metadata": {},
   "source": [
    "Question 7 Python\n",
    "File bloodtype1.txt records blood-types of patients (A, B, AB, O or OO) at a clinic. \n",
    "Write a function bldcount() that reads the file with name name and reports (i.e., \n",
    "prints) how many patients there are in each bloodtype.\n",
    ">>> bldcount('bloodtype.txt')\n",
    "There are 10 patients of blood type A.\n",
    "There is one patient of blood type B.\n",
    "There are 10 patients of blood type AB.\n",
    "There are 12 patients of blood type O.\n",
    "There are no patients of blood type OO."
   ]
  },
  {
   "cell_type": "code",
   "execution_count": 3,
   "id": "50fc12c3",
   "metadata": {},
   "outputs": [
    {
     "name": "stdout",
     "output_type": "stream",
     "text": [
      "There are 15 patients of blood type A.\n",
      "There is one patient of blood type B.\n",
      "There are 13 patients of blood type AB.\n",
      "There are 15 patients of blood type O.\n",
      "There are no patients of blood type OO.\n"
     ]
    }
   ],
   "source": [
    "def bldcount(file): #function bldcount that reads the file\n",
    "    infile = open(file, 'r')\n",
    "    content = infile.read()\n",
    "    wordList = content.split()\n",
    "    counts = {\"A\": 0,\"B\": 0,\"AB\": 0,\"O\": 0,\"OO\": 0}\n",
    "    for bloodType in wordList: #iterating through each bloodtype in the file\n",
    "        if bloodType in counts:\n",
    "            counts[bloodType] += 1\n",
    "    for bloodType, count in counts.items():\n",
    "        if count == 1:\n",
    "            print(f\"There is one patient of blood type {bloodType}.\")\n",
    "        elif count > 1:\n",
    "            print(f\"There are {count} patients of blood type {bloodType}.\")\n",
    "        else:\n",
    "            print(f\"There are no patients of blood type {bloodType}.\")\n",
    "bldcount(r'D:\\Dataset\\GitHub repository\\Blesslin.Thomas.BDAT1004PS-\\bloodtype1.txt') #calling the file \n",
    " "
   ]
  },
  {
   "cell_type": "markdown",
   "id": "adcb6c50",
   "metadata": {},
   "source": [
    "Question 8 Python\n",
    "Write a function curconv() that takes as input:\n",
    "1. a currency represented using a string (e.g., 'JPY' for the Japanese Yen or \n",
    "'EUR' for the Euro)\n",
    "2. an amount\n",
    "and then converts and returns the amount in US dollars.\n",
    ">>> curconv('EUR', 100)\n",
    "122.96544\n",
    ">>> curconv('JPY', 100)\n",
    "1.241401\n",
    "The currency rates you will need are stored in file currencies.txt:\n",
    "AUD 1.0345157 Australian Dollar\n",
    "CHF 1.0237414 Swiss Franc\n",
    "CNY 0.1550176 Chinese Yuan\n",
    "DKK 0.1651442 Danish Krone\n",
    "EUR 1.2296544 Euro\n",
    "GBP 1.5550989 British Pound\n",
    "HKD 0.1270207 Hong Kong Dollar\n",
    "INR 0.0177643 Indian Rupee\n",
    "JPY 0.01241401 Japanese Yen\n",
    "MXN 0.0751848 Mexican Peso\n",
    "MYR 0.3145411 Malaysian Ringgit\n",
    "NOK 0.1677063 Norwegian Krone\n",
    "NZD 0.8003591 New Zealand Dollar\n",
    "PHP 0.0233234 Philippine Peso\n",
    "SEK 0.148269 Swedish Krona\n",
    "SGD 0.788871 Singapore Dollar\n",
    "THB 0.0313789 Thai Baht\n"
   ]
  },
  {
   "cell_type": "code",
   "execution_count": 4,
   "id": "498b2511",
   "metadata": {},
   "outputs": [
    {
     "name": "stdout",
     "output_type": "stream",
     "text": [
      "122.96544\n",
      "1.241401\n"
     ]
    }
   ],
   "source": [
    "def currencyFile(file): #function currencyFile that reads the file\n",
    "    infile = open(file, 'r')\n",
    "    content = infile.readlines()\n",
    "    currencyCodes = []\n",
    "    exchangeRates = []\n",
    "    currencyNames = []\n",
    "    for line in content:\n",
    "        parts = line.split()\n",
    "        if len(parts) >= 3:\n",
    "            currencyCode = parts[0]\n",
    "            exchangeRate = float(parts[1])\n",
    "            currencyName = ' '.join(parts[2:])\n",
    "            currencyCodes.append(currencyCode)\n",
    "            exchangeRates.append(exchangeRate)\n",
    "            currencyNames.append(currencyName)\n",
    "    return currencyCodes, exchangeRates, currencyNames\n",
    "currencyCodes, exchangeRates, currencyNames = currencyFile(r'D:\\Dataset\\GitHub repository\\Blesslin.Thomas.BDAT1004PS-\\currencies.txt')\n",
    "\n",
    "def curconv(currency, amount): #function curconv takes input currency and amount\n",
    "    index = currencyCodes.index(currency)\n",
    "    exchangeRate = exchangeRates[index]\n",
    "    convertedAmount = amount * exchangeRate #convert into US dollar\n",
    "    return convertedAmount\n",
    "eur = curconv('EUR', 100)\n",
    "print(eur)\n",
    "jpy = curconv('JPY', 100)\n",
    "print(jpy)"
   ]
  },
  {
   "cell_type": "markdown",
   "id": "a5b8c4ed",
   "metadata": {},
   "source": [
    "Question 9 Python\n",
    "Each of the following will cause an exception (an error). Identify what type of \n",
    "exception each will cause.\n",
    "Trying to add incompatible variables, as in \n",
    "adding 6 + ‘a’\n",
    "Referring to the 12th item of a list that has only 10 \n",
    "items\n",
    "Using a value that is out of range for a function’s \n",
    "input, such as calling math.sqrt(-1.0)\n",
    "Using an undeclared variable, such as print(x)\n",
    "when x has not been defined \n",
    "Trying to open a file that does not exist, such as \n",
    "mistyping the file name or looking in the wrong \n",
    "directory."
   ]
  },
  {
   "cell_type": "code",
   "execution_count": 6,
   "id": "d6be8166",
   "metadata": {},
   "outputs": [
    {
     "ename": "TypeError",
     "evalue": "unsupported operand type(s) for +: 'int' and 'str'",
     "output_type": "error",
     "traceback": [
      "\u001b[1;31m---------------------------------------------------------------------------\u001b[0m",
      "\u001b[1;31mTypeError\u001b[0m                                 Traceback (most recent call last)",
      "Cell \u001b[1;32mIn[6], line 1\u001b[0m\n\u001b[1;32m----> 1\u001b[0m \u001b[38;5;28msum\u001b[39m\u001b[38;5;241m=\u001b[39m \u001b[38;5;241m6\u001b[39m\u001b[38;5;241m+\u001b[39m\u001b[38;5;124m'\u001b[39m\u001b[38;5;124ma\u001b[39m\u001b[38;5;124m'\u001b[39m\n\u001b[0;32m      3\u001b[0m \u001b[38;5;28mlist\u001b[39m \u001b[38;5;241m=\u001b[39m [\u001b[38;5;124m'\u001b[39m\u001b[38;5;124ma\u001b[39m\u001b[38;5;124m'\u001b[39m,\u001b[38;5;124m'\u001b[39m\u001b[38;5;124mb\u001b[39m\u001b[38;5;124m'\u001b[39m,\u001b[38;5;124m'\u001b[39m\u001b[38;5;124mc\u001b[39m\u001b[38;5;124m'\u001b[39m,\u001b[38;5;124m'\u001b[39m\u001b[38;5;124md\u001b[39m\u001b[38;5;124m'\u001b[39m,\u001b[38;5;124m'\u001b[39m\u001b[38;5;124me\u001b[39m\u001b[38;5;124m'\u001b[39m,\u001b[38;5;124m'\u001b[39m\u001b[38;5;124mf\u001b[39m\u001b[38;5;124m'\u001b[39m,\u001b[38;5;124m'\u001b[39m\u001b[38;5;124mg\u001b[39m\u001b[38;5;124m'\u001b[39m,\u001b[38;5;124m'\u001b[39m\u001b[38;5;124mh\u001b[39m\u001b[38;5;124m'\u001b[39m,\u001b[38;5;124m'\u001b[39m\u001b[38;5;124mi\u001b[39m\u001b[38;5;124m'\u001b[39m,\u001b[38;5;124m'\u001b[39m\u001b[38;5;124mj\u001b[39m\u001b[38;5;124m'\u001b[39m]\n\u001b[0;32m      4\u001b[0m \u001b[38;5;28mprint\u001b[39m(\u001b[38;5;28mlist\u001b[39m[\u001b[38;5;241m12\u001b[39m])\n",
      "\u001b[1;31mTypeError\u001b[0m: unsupported operand type(s) for +: 'int' and 'str'"
     ]
    }
   ],
   "source": [
    "sum= 6+'a'\n",
    "\n",
    "list = ['a','b','c','d','e','f','g','h','i','j']\n",
    "print(list[12])\n",
    "\n",
    "import math\n",
    "\n",
    "value = math.sqrt(-1.0)\n",
    "\n",
    "print(x)\n",
    "\n",
    "file = open('sample.txt')\n"
   ]
  },
  {
   "cell_type": "markdown",
   "id": "8f26e9b1",
   "metadata": {},
   "source": [
    "Answers\n",
    "\n",
    "TypeError: unsupported operand type(s) for +: 'int' and 'str'\n",
    "\n",
    "IndexError: list index out of range\n",
    "\n",
    "ValueError: math domain error\n",
    "\n",
    "NameError: name 'x' is not defined\n",
    "\n",
    "FileNotFoundError: No such file or directory: 'sample.txt'"
   ]
  },
  {
   "cell_type": "markdown",
   "id": "0d65ea6a",
   "metadata": {},
   "source": [
    "Question 10 Python\n",
    "Encryption is the process of hiding the meaning of a text by substituting letters in the \n",
    "message with other letters, according to some system. If the process is successful, no \n",
    "one but the intended recipient can understand the encrypted message. Cryptanalysis\n",
    "refers to attempts to undo the encryption, even if some details of the encryption are \n",
    "unknown (for example, if an encrypted message has been intercepted). The first step \n",
    "of cryptanalysis is often to build up a table of letter frequencies in the encrypted text. \n",
    "Assume that the string letters is already defined as \n",
    "'abcdefghijklmnopqrstuvwxyz'. Write a function called frequencies()\n",
    "that takes a string as its only parameter, and returns a list of integers, showing the \n",
    "number of times each character appears in the text. Your function may ignore any \n",
    "characters that are not in letters. \n",
    ">>> frequencies('The quick red fox got bored and went home.')\n",
    "[1, 1, 1, 3, 5, 1, 1, 2, 1, 0, 1, 0, 1, 2, 4, 0, 1, 2, 0, 2, \n",
    "1, 0, 1, 1, 0, 0]\n",
    ">>> frequencies('apple')"
   ]
  },
  {
   "cell_type": "code",
   "execution_count": 7,
   "id": "57e1e38a",
   "metadata": {},
   "outputs": [
    {
     "name": "stdout",
     "output_type": "stream",
     "text": [
      "[1, 1, 1, 1, 1, 1, 1, 2, 1, 0, 1, 0, 1, 2, 4, 0, 1, 2, 0, 1, 1, 0, 1, 1, 0, 0]\n",
      "[1, 0, 0, 0, 1, 0, 0, 0, 0, 0, 0, 1, 0, 0, 0, 2, 0, 0, 0, 0, 0, 0, 0, 0, 0, 0]\n"
     ]
    }
   ],
   "source": [
    "def frequencies(text): #frequencies that takes string as input \n",
    "    letter = \"abcdefghijklmnopqrstuvwxyz\"\n",
    "    letterFrequencies = [0]*len(letter)\n",
    "    text = text.lower()\n",
    "    for char in text: #iterating through each letters\n",
    "        if char in letter:\n",
    "            index = letter.index(char)\n",
    "            letterFrequencies[index] += 1\n",
    "        else:\n",
    "            letterFrequencies[index]=1\n",
    "    \n",
    "    return letterFrequencies\n",
    "\n",
    "text1 =frequencies(\"The quick red fox got bored and went home.\")\n",
    "print(text1)\n",
    "\n",
    "text2 =frequencies(\"apple\")\n",
    "print(text2)"
   ]
  },
  {
   "cell_type": "code",
   "execution_count": null,
   "id": "c91c3b7f",
   "metadata": {},
   "outputs": [],
   "source": []
  }
 ],
 "metadata": {
  "kernelspec": {
   "display_name": "Python 3 (ipykernel)",
   "language": "python",
   "name": "python3"
  },
  "language_info": {
   "codemirror_mode": {
    "name": "ipython",
    "version": 3
   },
   "file_extension": ".py",
   "mimetype": "text/x-python",
   "name": "python",
   "nbconvert_exporter": "python",
   "pygments_lexer": "ipython3",
   "version": "3.11.4"
  }
 },
 "nbformat": 4,
 "nbformat_minor": 5
}
